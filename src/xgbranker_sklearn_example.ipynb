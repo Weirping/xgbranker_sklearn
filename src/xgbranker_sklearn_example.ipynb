{
 "cells": [
  {
   "cell_type": "code",
   "execution_count": 9,
   "metadata": {
    "collapsed": true
   },
   "outputs": [],
   "source": [
    "import numpy as np\n",
    "\n",
    "from sklearn.model_selection import GridSearchCV\n",
    "from rank_sklearn import XGBRanker\n",
    "from rank_GroupKFold import Rank_GroupKFold\n",
    "from ndcg_scorer import ndcg_at_5_scoring, ndcg_at_3_scoring, ndcg_at_10_scoring"
   ]
  },
  {
   "cell_type": "markdown",
   "metadata": {},
   "source": [
    "# data load"
   ]
  },
  {
   "cell_type": "code",
   "execution_count": 10,
   "metadata": {},
   "outputs": [],
   "source": [
    "from sklearn.datasets import load_svmlight_file\n",
    "\n",
    "data = load_svmlight_file('../data/train.txt',query_id =True)\n",
    "\n",
    "X, y, g = data[0].toarray(), data[1], data[2]\n",
    "\n",
    "group_X = np.c_[g, X]"
   ]
  },
  {
   "cell_type": "markdown",
   "metadata": {},
   "source": [
    "# training and predict"
   ]
  },
  {
   "cell_type": "code",
   "execution_count": 11,
   "metadata": {},
   "outputs": [
    {
     "name": "stdout",
     "output_type": "stream",
     "text": [
      "0.692242516498\n",
      "[ 0.59940886 -2.70062757  0.19634044 ..., -1.8180337  -2.48530817\n",
      " -2.66612768]\n",
      "[[305 283 217 ..., 130 110 141]\n",
      " [249 225 182 ..., 128 111 160]\n",
      " [290 295 228 ..., 135 135 194]\n",
      " ..., \n",
      " [248 254 207 ..., 135 122 152]\n",
      " [226 232 186 ..., 135  33 152]\n",
      " [226 225 182 ..., 135 118 135]]\n"
     ]
    }
   ],
   "source": [
    "ranker = XGBRanker(learning_rate=0.1, n_estimators=140, max_depth=8, reg_lambda=1.4, reg_alpha=0.6,\n",
    "                       min_child_weight=1, gamma=0, subsample=0.8, colsample_bytree=0.8,\n",
    "                       n_jobs=-1, scale_pos_weight=1, silent=True, seed=27)\n",
    "ranker.fit(group_X, y)\n",
    "\n",
    "print ranker.score(group_X, y)\n",
    "\n",
    "print ranker.predict(group_X)\n",
    "\n",
    "print ranker.apply(group_X)"
   ]
  },
  {
   "cell_type": "markdown",
   "metadata": {
    "collapsed": true
   },
   "source": [
    "# GridSearchCV"
   ]
  },
  {
   "cell_type": "code",
   "execution_count": 12,
   "metadata": {},
   "outputs": [
    {
     "name": "stdout",
     "output_type": "stream",
     "text": [
      "Fitting 5 folds for each of 2 candidates, totalling 10 fits\n",
      "[CV] start reg_alpha=0.4, colsample_bytree=0.9, colsample_bylevel=0.9, learning_rate=0.1, min_child_weight=0, n_estimators=150, subsample=0.9, reg_lambda=1.46, max_depth=6, gamma=0 \n",
      "[CV] start reg_alpha=0.4, colsample_bytree=0.9, colsample_bylevel=0.9, learning_rate=0.1, min_child_weight=0, n_estimators=150, subsample=0.9, reg_lambda=1.46, max_depth=6, gamma=0 \n",
      "[CV] start reg_alpha=0.4, colsample_bytree=0.9, colsample_bylevel=0.9, learning_rate=0.1, min_child_weight=0, n_estimators=150, subsample=0.9, reg_lambda=1.46, max_depth=6, gamma=0 \n",
      "[CV] start reg_alpha=0.4, colsample_bytree=0.9, colsample_bylevel=0.9, learning_rate=0.1, min_child_weight=0, n_estimators=150, subsample=0.9, reg_lambda=1.46, max_depth=6, gamma=0 \n",
      "[CV] start reg_alpha=0.4, colsample_bytree=0.9, colsample_bylevel=0.9, learning_rate=0.1, min_child_weight=0, n_estimators=150, subsample=0.9, reg_lambda=1.46, max_depth=6, gamma=0 \n",
      "[CV] start reg_alpha=0.4, colsample_bytree=0.9, colsample_bylevel=0.9, learning_rate=0.1, min_child_weight=1, n_estimators=150, subsample=0.9, reg_lambda=1.46, max_depth=6, gamma=0 \n",
      "[CV] start reg_alpha=0.4, colsample_bytree=0.9, colsample_bylevel=0.9, learning_rate=0.1, min_child_weight=1, n_estimators=150, subsample=0.9, reg_lambda=1.46, max_depth=6, gamma=0 \n",
      "[CV] start reg_alpha=0.4, colsample_bytree=0.9, colsample_bylevel=0.9, learning_rate=0.1, min_child_weight=1, n_estimators=150, subsample=0.9, reg_lambda=1.46, max_depth=6, gamma=0 \n",
      "[CV] start reg_alpha=0.4, colsample_bytree=0.9, colsample_bylevel=0.9, learning_rate=0.1, min_child_weight=1, n_estimators=150, subsample=0.9, reg_lambda=1.46, max_depth=6, gamma=0 \n",
      "[CV] start reg_alpha=0.4, colsample_bytree=0.9, colsample_bylevel=0.9, learning_rate=0.1, min_child_weight=1, n_estimators=150, subsample=0.9, reg_lambda=1.46, max_depth=6, gamma=0 \n",
      "[CV] end  reg_alpha=0.4, colsample_bytree=0.9, colsample_bylevel=0.9, learning_rate=0.1, min_child_weight=0, n_estimators=150, subsample=0.9, reg_lambda=1.46, max_depth=6, gamma=0, score=0.484478005783, total=  14.8s\n",
      "[CV] end  reg_alpha=0.4, colsample_bytree=0.9, colsample_bylevel=0.9, learning_rate=0.1, min_child_weight=0, n_estimators=150, subsample=0.9, reg_lambda=1.46, max_depth=6, gamma=0, score=0.454962214683, total=  14.6s\n",
      "[CV] end  reg_alpha=0.4, colsample_bytree=0.9, colsample_bylevel=0.9, learning_rate=0.1, min_child_weight=0, n_estimators=150, subsample=0.9, reg_lambda=1.46, max_depth=6, gamma=0, score=0.42177998041, total=  14.6s\n",
      "[CV] end  reg_alpha=0.4, colsample_bytree=0.9, colsample_bylevel=0.9, learning_rate=0.1, min_child_weight=0, n_estimators=150, subsample=0.9, reg_lambda=1.46, max_depth=6, gamma=0, score=0.410451861215, total=  14.7s\n",
      "[CV] end  reg_alpha=0.4, colsample_bytree=0.9, colsample_bylevel=0.9, learning_rate=0.1, min_child_weight=0, n_estimators=150, subsample=0.9, reg_lambda=1.46, max_depth=6, gamma=0, score=0.471708787202, total=  15.0s\n",
      "[CV] end  reg_alpha=0.4, colsample_bytree=0.9, colsample_bylevel=0.9, learning_rate=0.1, min_child_weight=1, n_estimators=150, subsample=0.9, reg_lambda=1.46, max_depth=6, gamma=0, score=0.493712379663, total=  14.5s\n",
      "[CV] end  reg_alpha=0.4, colsample_bytree=0.9, colsample_bylevel=0.9, learning_rate=0.1, min_child_weight=1, n_estimators=150, subsample=0.9, reg_lambda=1.46, max_depth=6, gamma=0, score=0.460213316409, total=  14.8s\n",
      "[CV] end  reg_alpha=0.4, colsample_bytree=0.9, colsample_bylevel=0.9, learning_rate=0.1, min_child_weight=1, n_estimators=150, subsample=0.9, reg_lambda=1.46, max_depth=6, gamma=0, score=0.411586860304, total=  15.1s\n",
      "[CV] end  reg_alpha=0.4, colsample_bytree=0.9, colsample_bylevel=0.9, learning_rate=0.1, min_child_weight=1, n_estimators=150, subsample=0.9, reg_lambda=1.46, max_depth=6, gamma=0, score=0.481645629463, total=  15.2s\n",
      "[CV] end  reg_alpha=0.4, colsample_bytree=0.9, colsample_bylevel=0.9, learning_rate=0.1, min_child_weight=1, n_estimators=150, subsample=0.9, reg_lambda=1.46, max_depth=6, gamma=0, score=0.4129247248, total=  15.1s\n"
     ]
    },
    {
     "name": "stderr",
     "output_type": "stream",
     "text": [
      "[Parallel(n_jobs=23)]: Done   5 out of  10 | elapsed:   15.7s remaining:   15.7s\n",
      "[Parallel(n_jobs=23)]: Done  10 out of  10 | elapsed:   15.8s finished\n"
     ]
    },
    {
     "name": "stdout",
     "output_type": "stream",
     "text": [
      "XGBRanker(base_score=0.5, colsample_bylevel=0.9, colsample_bytree=0.9,\n",
      "     gamma=0, learning_rate=0.1, max_delta_step=0, max_depth=6,\n",
      "     min_child_weight=1, missing=None, n_estimators=150, n_jobs=-1,\n",
      "     random_state=0, reg_alpha=0.4, reg_lambda=1.46, scale_pos_weight=1,\n",
      "     silent=True, subsample=0.9)\n",
      "{'reg_alpha': 0.4, 'colsample_bytree': 0.9, 'colsample_bylevel': 0.9, 'learning_rate': 0.1, 'min_child_weight': 1, 'n_estimators': 150, 'subsample': 0.9, 'reg_lambda': 1.46, 'max_depth': 6, 'gamma': 0}\n",
      "0.452016582128\n"
     ]
    }
   ],
   "source": [
    "cv = Rank_GroupKFold(n_splits=5)\n",
    "\n",
    "param_grid = {\n",
    "    'n_estimators': [150],  # range(140, 150),\n",
    "    'max_depth': [6],\n",
    "    'min_child_weight': [0, 1],   # In linear regression task, this simply corresponds to minimum number of instances needed to be in each node.\n",
    "    'learning_rate': [0.1],\n",
    "    'gamma': [0],  # Minimum loss reduction required to make a further partition on a leaf node of the tree.\n",
    "    'reg_lambda': [1.46],  # (xgb's lambda)L2 regularization term on weights\n",
    "    'reg_alpha': [0.4],  # (xgb's alpha)L1 regularization term on weights\n",
    "    'subsample': [0.9],  # Subsample ratio of the training instance.\n",
    "    'colsample_bytree': [0.9],  # Subsample ratio of columns when constructing each tree.\n",
    "    'colsample_bylevel': [0.9]  # float Subsample ratio of columns for each split, in each level.\n",
    "    # 'scale_pos_weight ': [],  # Balancing of positive and negative weights.\n",
    "}\n",
    "\n",
    "ranker = XGBRanker(learning_rate=0.1, n_estimators=140, max_depth=8, reg_lambda=1.4, reg_alpha=0.6,\n",
    "                       min_child_weight=1, gamma=0, subsample=0.8, colsample_bytree=0.8,\n",
    "                       n_jobs=-1, scale_pos_weight=1, silent=True, seed=27)\n",
    "\n",
    "gsearch = GridSearchCV(estimator=ranker, param_grid=param_grid,\n",
    "                       scoring=ndcg_at_5_scoring, n_jobs=23, iid=False,\n",
    "                       cv=cv, verbose=3, refit=True)\n",
    "\n",
    "gsearch.fit(group_X, y)\n",
    "print gsearch.best_estimator_\n",
    "print gsearch.best_params_\n",
    "print gsearch.best_score_"
   ]
  },
  {
   "cell_type": "code",
   "execution_count": null,
   "metadata": {
    "collapsed": true
   },
   "outputs": [],
   "source": []
  },
  {
   "cell_type": "code",
   "execution_count": null,
   "metadata": {
    "collapsed": true
   },
   "outputs": [],
   "source": []
  }
 ],
 "metadata": {
  "kernelspec": {
   "display_name": "Python 2",
   "language": "python",
   "name": "python2"
  },
  "language_info": {
   "codemirror_mode": {
    "name": "ipython",
    "version": 2
   },
   "file_extension": ".py",
   "mimetype": "text/x-python",
   "name": "python",
   "nbconvert_exporter": "python",
   "pygments_lexer": "ipython2",
   "version": "2.7.13"
  }
 },
 "nbformat": 4,
 "nbformat_minor": 2
}
